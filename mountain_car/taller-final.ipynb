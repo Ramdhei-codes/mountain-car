{
 "cells": [
  {
   "cell_type": "code",
   "execution_count": 167,
   "id": "89445605",
   "metadata": {},
   "outputs": [],
   "source": [
    "from collections import defaultdict\n",
    "import numpy as np\n",
    "import matplotlib.pyplot as plt\n",
    "import pickle\n",
    "import time\n",
    "import gymnasium as gym\n",
    "import torch\n",
    "import torch.nn as nn\n",
    "import torch.optim as optim\n",
    "from collections import deque\n",
    "import random\n",
    "import warnings\n",
    "import os\n",
    "from gym.wrappers import RecordVideo\n",
    "warnings.simplefilter(\"ignore\")\n"
   ]
  },
  {
   "cell_type": "markdown",
   "id": "95233602",
   "metadata": {},
   "source": [
    "## Q-Learning MountainCar"
   ]
  },
  {
   "cell_type": "markdown",
   "id": "f4a4085e",
   "metadata": {},
   "source": [
    "### Configuración del entorno\n",
    "\n",
    "Se crea el entorno MountainCar-v0 con Gym y se obtiene el número de acciones posibles (izquierda, nada, derecha).\n"
   ]
  },
  {
   "cell_type": "code",
   "execution_count": 83,
   "id": "81759229",
   "metadata": {},
   "outputs": [],
   "source": [
    "env = gym.make('MountainCar-v0')\n",
    "n_actions = env.action_space.n"
   ]
  },
  {
   "cell_type": "markdown",
   "id": "c57ac17a",
   "metadata": {},
   "source": [
    "### Inicialización de Q-table y funciones auxiliares\n",
    "\n",
    "- Se crea una Q-table con estados discretizados, usando defaultdict de numpy.zeros.\n",
    "- La función discretize_state transforma el estado continuo del entorno en índices discretos para usar como claves en la Q-table.\n"
   ]
  },
  {
   "cell_type": "code",
   "execution_count": 84,
   "id": "006665bf",
   "metadata": {},
   "outputs": [],
   "source": [
    "q_table = defaultdict(lambda: np.zeros(n_actions))\n",
    "\n",
    "def discretize_state(state, n_bins=20):\n",
    "    position, velocity = state\n",
    "    pos_bins = np.linspace(-1.2, 0.6, n_bins)\n",
    "    vel_bins = np.linspace(-0.07, 0.07, n_bins)\n",
    "    pos_idx = np.digitize(position, pos_bins)\n",
    "    vel_idx = np.digitize(velocity, vel_bins)\n",
    "    pos_idx = np.clip(pos_idx, 0, n_bins - 1)\n",
    "    vel_idx = np.clip(vel_idx, 0, n_bins - 1)\n",
    "    return (pos_idx, vel_idx)"
   ]
  },
  {
   "cell_type": "markdown",
   "id": "6b4175bb",
   "metadata": {},
   "source": [
    "### Hiperparámetros del agente\n",
    "\n",
    "Se definen los parámetros que controlan el aprendizaje:\n",
    "- alfa: tasa de aprendizaje.\n",
    "- gamma: factor de descuento (recompensas futuras).\n",
    "- epsilon: para la política e-greedy.\n",
    "- epsilon_decay y min_epsilon: controlan cuánto exploramos al inicio y cómo va bajando.\n",
    "- episodios: número total de episodios de entrenamiento.\n"
   ]
  },
  {
   "cell_type": "code",
   "execution_count": 85,
   "id": "e818adb1",
   "metadata": {},
   "outputs": [],
   "source": [
    "alfa = 0.1\n",
    "gamma = 0.99\n",
    "epsilon = 1.0\n",
    "min_epsilon = 0.01\n",
    "epsilon_decay = 0.995\n",
    "episodios = 5000\n",
    "rewards = []\n",
    "lengths = []"
   ]
  },
  {
   "cell_type": "markdown",
   "id": "0fcef789",
   "metadata": {},
   "source": [
    "### Entrenamiento del agente\n",
    "\n",
    "Se entrena el agente usando Q-Learning:\n",
    "- Por cada episodio se reinicia el entorno.\n",
    "- Se elige una acción con política e-greedy.\n",
    "- Se actualiza la Q-table usando la fórmula Q-learning.\n",
    "- Se ajusta epsilon para explorar menos con el tiempo.\n",
    "- Se almacenan recompensas y número de pasos por episodio.\n"
   ]
  },
  {
   "cell_type": "code",
   "execution_count": 86,
   "id": "08e042fd",
   "metadata": {},
   "outputs": [
    {
     "name": "stdout",
     "output_type": "stream",
     "text": [
      "Episodio 50: Recompensa Promedio (últimos 50): -200.00, Epsilon: 0.778\n",
      "Episodio 100: Recompensa Promedio (últimos 50): -200.00, Epsilon: 0.606\n",
      "Episodio 150: Recompensa Promedio (últimos 50): -200.00, Epsilon: 0.471\n",
      "Episodio 200: Recompensa Promedio (últimos 50): -200.00, Epsilon: 0.367\n",
      "Episodio 250: Recompensa Promedio (últimos 50): -200.00, Epsilon: 0.286\n",
      "Episodio 300: Recompensa Promedio (últimos 50): -200.00, Epsilon: 0.222\n",
      "Episodio 350: Recompensa Promedio (últimos 50): -200.00, Epsilon: 0.173\n",
      "Episodio 400: Recompensa Promedio (últimos 50): -200.00, Epsilon: 0.135\n",
      "Episodio 450: Recompensa Promedio (últimos 50): -200.00, Epsilon: 0.105\n",
      "Episodio 500: Recompensa Promedio (últimos 50): -200.00, Epsilon: 0.082\n",
      "Episodio 550: Recompensa Promedio (últimos 50): -200.00, Epsilon: 0.063\n",
      "Episodio 600: Recompensa Promedio (últimos 50): -200.00, Epsilon: 0.049\n",
      "Episodio 650: Recompensa Promedio (últimos 50): -199.72, Epsilon: 0.038\n",
      "Episodio 700: Recompensa Promedio (últimos 50): -199.92, Epsilon: 0.030\n",
      "Episodio 750: Recompensa Promedio (últimos 50): -199.24, Epsilon: 0.023\n",
      "Episodio 800: Recompensa Promedio (últimos 50): -196.90, Epsilon: 0.018\n",
      "Episodio 850: Recompensa Promedio (últimos 50): -184.32, Epsilon: 0.014\n",
      "Episodio 900: Recompensa Promedio (últimos 50): -192.60, Epsilon: 0.011\n",
      "Episodio 950: Recompensa Promedio (últimos 50): -198.82, Epsilon: 0.010\n",
      "Episodio 1000: Recompensa Promedio (últimos 50): -197.22, Epsilon: 0.010\n",
      "Episodio 1050: Recompensa Promedio (últimos 50): -187.16, Epsilon: 0.010\n",
      "Episodio 1100: Recompensa Promedio (últimos 50): -197.56, Epsilon: 0.010\n",
      "Episodio 1150: Recompensa Promedio (últimos 50): -198.30, Epsilon: 0.010\n",
      "Episodio 1200: Recompensa Promedio (últimos 50): -194.68, Epsilon: 0.010\n",
      "Episodio 1250: Recompensa Promedio (últimos 50): -180.90, Epsilon: 0.010\n",
      "Episodio 1300: Recompensa Promedio (últimos 50): -179.64, Epsilon: 0.010\n",
      "Episodio 1350: Recompensa Promedio (últimos 50): -191.04, Epsilon: 0.010\n",
      "Episodio 1400: Recompensa Promedio (últimos 50): -198.80, Epsilon: 0.010\n",
      "Episodio 1450: Recompensa Promedio (últimos 50): -197.98, Epsilon: 0.010\n",
      "Episodio 1500: Recompensa Promedio (últimos 50): -194.94, Epsilon: 0.010\n",
      "Episodio 1550: Recompensa Promedio (últimos 50): -173.28, Epsilon: 0.010\n",
      "Episodio 1600: Recompensa Promedio (últimos 50): -189.24, Epsilon: 0.010\n",
      "Episodio 1650: Recompensa Promedio (últimos 50): -170.04, Epsilon: 0.010\n",
      "Episodio 1700: Recompensa Promedio (últimos 50): -158.00, Epsilon: 0.010\n",
      "Episodio 1750: Recompensa Promedio (últimos 50): -175.24, Epsilon: 0.010\n",
      "Episodio 1800: Recompensa Promedio (últimos 50): -181.32, Epsilon: 0.010\n",
      "Episodio 1850: Recompensa Promedio (últimos 50): -176.14, Epsilon: 0.010\n",
      "Episodio 1900: Recompensa Promedio (últimos 50): -170.96, Epsilon: 0.010\n",
      "Episodio 1950: Recompensa Promedio (últimos 50): -198.10, Epsilon: 0.010\n",
      "Episodio 2000: Recompensa Promedio (últimos 50): -180.70, Epsilon: 0.010\n",
      "Episodio 2050: Recompensa Promedio (últimos 50): -171.54, Epsilon: 0.010\n",
      "Episodio 2100: Recompensa Promedio (últimos 50): -177.26, Epsilon: 0.010\n",
      "Episodio 2150: Recompensa Promedio (últimos 50): -183.12, Epsilon: 0.010\n",
      "Episodio 2200: Recompensa Promedio (últimos 50): -187.90, Epsilon: 0.010\n",
      "Episodio 2250: Recompensa Promedio (últimos 50): -200.00, Epsilon: 0.010\n",
      "Episodio 2300: Recompensa Promedio (últimos 50): -188.22, Epsilon: 0.010\n",
      "Episodio 2350: Recompensa Promedio (últimos 50): -180.62, Epsilon: 0.010\n",
      "Episodio 2400: Recompensa Promedio (últimos 50): -171.70, Epsilon: 0.010\n",
      "Episodio 2450: Recompensa Promedio (últimos 50): -156.50, Epsilon: 0.010\n",
      "Episodio 2500: Recompensa Promedio (últimos 50): -158.16, Epsilon: 0.010\n",
      "Episodio 2550: Recompensa Promedio (últimos 50): -191.06, Epsilon: 0.010\n",
      "Episodio 2600: Recompensa Promedio (últimos 50): -193.80, Epsilon: 0.010\n",
      "Episodio 2650: Recompensa Promedio (últimos 50): -199.04, Epsilon: 0.010\n",
      "Episodio 2700: Recompensa Promedio (últimos 50): -193.80, Epsilon: 0.010\n",
      "Episodio 2750: Recompensa Promedio (últimos 50): -175.36, Epsilon: 0.010\n",
      "Episodio 2800: Recompensa Promedio (últimos 50): -174.50, Epsilon: 0.010\n",
      "Episodio 2850: Recompensa Promedio (últimos 50): -176.38, Epsilon: 0.010\n",
      "Episodio 2900: Recompensa Promedio (últimos 50): -169.64, Epsilon: 0.010\n",
      "Episodio 2950: Recompensa Promedio (últimos 50): -153.22, Epsilon: 0.010\n",
      "Episodio 3000: Recompensa Promedio (últimos 50): -154.30, Epsilon: 0.010\n",
      "Episodio 3050: Recompensa Promedio (últimos 50): -177.92, Epsilon: 0.010\n",
      "Episodio 3100: Recompensa Promedio (últimos 50): -184.46, Epsilon: 0.010\n",
      "Episodio 3150: Recompensa Promedio (últimos 50): -174.10, Epsilon: 0.010\n",
      "Episodio 3200: Recompensa Promedio (últimos 50): -157.72, Epsilon: 0.010\n",
      "Episodio 3250: Recompensa Promedio (últimos 50): -158.62, Epsilon: 0.010\n",
      "Episodio 3300: Recompensa Promedio (últimos 50): -185.92, Epsilon: 0.010\n",
      "Episodio 3350: Recompensa Promedio (últimos 50): -171.22, Epsilon: 0.010\n",
      "Episodio 3400: Recompensa Promedio (últimos 50): -172.02, Epsilon: 0.010\n",
      "Episodio 3450: Recompensa Promedio (últimos 50): -165.60, Epsilon: 0.010\n",
      "Episodio 3500: Recompensa Promedio (últimos 50): -169.44, Epsilon: 0.010\n",
      "Episodio 3550: Recompensa Promedio (últimos 50): -170.78, Epsilon: 0.010\n",
      "Episodio 3600: Recompensa Promedio (últimos 50): -179.98, Epsilon: 0.010\n",
      "Episodio 3650: Recompensa Promedio (últimos 50): -167.70, Epsilon: 0.010\n",
      "Episodio 3700: Recompensa Promedio (últimos 50): -172.82, Epsilon: 0.010\n",
      "Episodio 3750: Recompensa Promedio (últimos 50): -159.04, Epsilon: 0.010\n",
      "Episodio 3800: Recompensa Promedio (últimos 50): -192.30, Epsilon: 0.010\n",
      "Episodio 3850: Recompensa Promedio (últimos 50): -187.38, Epsilon: 0.010\n",
      "Episodio 3900: Recompensa Promedio (últimos 50): -189.46, Epsilon: 0.010\n",
      "Episodio 3950: Recompensa Promedio (últimos 50): -190.90, Epsilon: 0.010\n",
      "Episodio 4000: Recompensa Promedio (últimos 50): -187.78, Epsilon: 0.010\n",
      "Episodio 4050: Recompensa Promedio (últimos 50): -194.16, Epsilon: 0.010\n",
      "Episodio 4100: Recompensa Promedio (últimos 50): -182.96, Epsilon: 0.010\n",
      "Episodio 4150: Recompensa Promedio (últimos 50): -174.72, Epsilon: 0.010\n",
      "Episodio 4200: Recompensa Promedio (últimos 50): -161.68, Epsilon: 0.010\n",
      "Episodio 4250: Recompensa Promedio (últimos 50): -159.48, Epsilon: 0.010\n",
      "Episodio 4300: Recompensa Promedio (últimos 50): -180.50, Epsilon: 0.010\n",
      "Episodio 4350: Recompensa Promedio (últimos 50): -172.34, Epsilon: 0.010\n",
      "Episodio 4400: Recompensa Promedio (últimos 50): -152.90, Epsilon: 0.010\n",
      "Episodio 4450: Recompensa Promedio (últimos 50): -150.14, Epsilon: 0.010\n",
      "Episodio 4500: Recompensa Promedio (últimos 50): -148.74, Epsilon: 0.010\n",
      "Episodio 4550: Recompensa Promedio (últimos 50): -152.96, Epsilon: 0.010\n",
      "Episodio 4600: Recompensa Promedio (últimos 50): -153.56, Epsilon: 0.010\n",
      "Episodio 4650: Recompensa Promedio (últimos 50): -157.58, Epsilon: 0.010\n",
      "Episodio 4700: Recompensa Promedio (últimos 50): -155.48, Epsilon: 0.010\n",
      "Episodio 4750: Recompensa Promedio (últimos 50): -153.54, Epsilon: 0.010\n",
      "Episodio 4800: Recompensa Promedio (últimos 50): -150.20, Epsilon: 0.010\n",
      "Episodio 4850: Recompensa Promedio (últimos 50): -149.14, Epsilon: 0.010\n",
      "Episodio 4900: Recompensa Promedio (últimos 50): -138.98, Epsilon: 0.010\n",
      "Episodio 4950: Recompensa Promedio (últimos 50): -136.44, Epsilon: 0.010\n",
      "Episodio 5000: Recompensa Promedio (últimos 50): -142.70, Epsilon: 0.010\n"
     ]
    }
   ],
   "source": [
    "for ep in range(episodios):\n",
    "    state = env.reset()[0] if isinstance(env.reset(), tuple) else env.reset()\n",
    "    state_disc = discretize_state(state)\n",
    "    done = False\n",
    "    total_reward = 0\n",
    "    steps = 0\n",
    "\n",
    "    while not done:\n",
    "        if np.random.random() < epsilon:\n",
    "            action = env.action_space.sample()\n",
    "        else:\n",
    "            action = np.argmax(q_table[state_disc])\n",
    "\n",
    "        result = env.step(action)\n",
    "        if len(result) == 4:\n",
    "            next_state, reward, done, _ = result\n",
    "        else:\n",
    "            next_state, reward, terminated, truncated, _ = result\n",
    "            done = terminated or truncated\n",
    "\n",
    "        next_disc = discretize_state(next_state)\n",
    "        target = reward + gamma * np.max(q_table[next_disc]) if not done else reward\n",
    "        q_table[state_disc][action] += alfa * (target - q_table[state_disc][action])\n",
    "\n",
    "        state_disc = next_disc\n",
    "        total_reward += reward\n",
    "        steps += 1\n",
    "\n",
    "    epsilon = max(min_epsilon, epsilon * epsilon_decay)\n",
    "    rewards.append(total_reward)\n",
    "    lengths.append(steps)\n",
    "\n",
    "    if (ep + 1) % 50 == 0:\n",
    "        print(f\"Episodio {ep + 1}: Recompensa Promedio (últimos 50): {np.mean(rewards[-50:]):.2f}, Epsilon: {epsilon:.3f}\")"
   ]
  },
  {
   "cell_type": "markdown",
   "id": "bf312f9d",
   "metadata": {},
   "source": [
    "### Guardar modelo\n",
    "\n",
    "Se guarda la Q-table entrenada en un archivo `.pkl` usando `pickle` para poder reutilizarla después.\n"
   ]
  },
  {
   "cell_type": "code",
   "execution_count": 87,
   "id": "ba957861",
   "metadata": {},
   "outputs": [],
   "source": [
    "with open(\"q_table_mountaincar.pkl\", \"wb\") as f:\n",
    "    pickle.dump(dict(q_table), f)"
   ]
  },
  {
   "cell_type": "markdown",
   "id": "6b32ba68",
   "metadata": {},
   "source": [
    "### Gráficas de entrenamiento\n",
    "\n",
    "Se grafica la recompensa total obtenida en cada episodio para ver si el agente va mejorando con el tiempo.\n"
   ]
  },
  {
   "cell_type": "code",
   "execution_count": 88,
   "id": "2b597b02",
   "metadata": {},
   "outputs": [
    {
     "data": {
      "image/png": "[encoded data removed]",
      "text/plain": [
       "<Figure size 640x480 with 1 Axes>"
      ]
     },
     "metadata": {},
     "output_type": "display_data"
    }
   ],
   "source": [
    "plt.plot(rewards)\n",
    "plt.xlabel(\"Episodio\")\n",
    "plt.ylabel(\"Recompensa\")\n",
    "plt.title(\"Recompensa por Episodio\")\n",
    "plt.grid(True)\n",
    "plt.show()"
   ]
  },
  {
   "cell_type": "markdown",
   "id": "1fc487d0",
   "metadata": {},
   "source": [
    "### Prueba del agente y grabación del video\n",
    "\n",
    "- Se crea un entorno con render_mode=\"rgb_array\" y se usa RecordVideo para grabar el episodio.\n",
    "- El agente juega un episodio usando solo explotación (np.argmax).\n",
    "- Al finalizar, se guarda el video en una carpeta local.\n"
   ]
  },
  {
   "cell_type": "code",
   "execution_count": 89,
   "id": "78800877",
   "metadata": {},
   "outputs": [
    {
     "name": "stdout",
     "output_type": "stream",
     "text": [
      "Recompensa total del episodio grabado: -127.0\n"
     ]
    }
   ],
   "source": [
    "video_folder = \"./mountaincar_videos\"\n",
    "os.makedirs(video_folder, exist_ok=True)\n",
    "\n",
    "env = gym.make('MountainCar-v0', render_mode=\"rgb_array\")\n",
    "env = gym.wrappers.RecordVideo(env, video_folder=video_folder, episode_trigger=lambda e: True)\n",
    "\n",
    "state = env.reset()[0] if isinstance(env.reset(), tuple) else env.reset()\n",
    "state_disc = discretize_state(state)\n",
    "done = False\n",
    "total_reward = 0\n",
    "\n",
    "while not done:\n",
    "    action = np.argmax(q_table[state_disc])\n",
    "    result = env.step(action)\n",
    "    if len(result) == 4:\n",
    "        next_state, reward, done, _ = result\n",
    "    else:\n",
    "        next_state, reward, terminated, truncated, _ = result\n",
    "        done = terminated or truncated\n",
    "\n",
    "    state_disc = discretize_state(next_state)\n",
    "    total_reward += reward\n",
    "\n",
    "env.close()\n",
    "print(f\"Recompensa total del episodio grabado: {total_reward}\")"
   ]
  },
  {
   "cell_type": "markdown",
   "id": "a6469361",
   "metadata": {},
   "source": [
    "## DQN MountainCar"
   ]
  },
  {
   "cell_type": "markdown",
   "id": "59546193",
   "metadata": {},
   "source": [
    "### Modelo DQN\n",
    "\n",
    "Se crea una red neuronal simple:\n",
    "- Entrada: estado del carro (posición y velocidad).\n",
    "- Salida: valor Q para cada acción (izquierda, nada, derecha).\n",
    "- Arquitectura: 2 capas ocultas con ReLU.\n"
   ]
  },
  {
   "cell_type": "code",
   "execution_count": 101,
   "id": "dc560743",
   "metadata": {},
   "outputs": [],
   "source": [
    "class DQN(nn.Module):\n",
    "    def __init__(self, input_dim, output_dim):\n",
    "        super(DQN, self).__init__()\n",
    "        self.net = nn.Sequential(\n",
    "            nn.Linear(input_dim, 64),\n",
    "            nn.ReLU(),\n",
    "            nn.Linear(64, 64),\n",
    "            nn.ReLU(),\n",
    "            nn.Linear(64, output_dim)\n",
    "        )\n",
    "\n",
    "    def forward(self, x):\n",
    "        return self.net(x)"
   ]
  },
  {
   "cell_type": "markdown",
   "id": "fb41beb3",
   "metadata": {},
   "source": [
    "### Funciones auxiliares\n",
    "\n",
    "- normalize_state: normaliza el estado continuo (posición, velocidad) para que esté entre 0 y 1.\n",
    "- select_action: aplica la política e-greedy. A veces toma acción random (explora), a veces escoge la mejor según la red.\n"
   ]
  },
  {
   "cell_type": "code",
   "execution_count": 102,
   "id": "837809da",
   "metadata": {},
   "outputs": [],
   "source": [
    "def normalize_state(state):\n",
    "    low = np.array([-1.2, -0.07])\n",
    "    high = np.array([0.6, 0.07])\n",
    "    return (state - low) / (high - low)\n",
    "\n",
    "def select_action(model, state, epsilon):\n",
    "    if random.random() < epsilon:\n",
    "        return env.action_space.sample()\n",
    "    else:\n",
    "        with torch.no_grad():\n",
    "            state_tensor = torch.FloatTensor(state)\n",
    "            q_values = model(state_tensor)\n",
    "            return torch.argmax(q_values).item()"
   ]
  },
  {
   "cell_type": "markdown",
   "id": "84e97bc3",
   "metadata": {},
   "source": [
    "### Entrenamiento\n",
    "\n",
    "- Se inicializa el entorno y la red.\n",
    "- Se usa memoria de experiencia para guardar las transiciones.\n",
    "- Se entrena por episodios:\n",
    "  - Ejecuta acciones, guarda experiencias.\n",
    "  - Cuando hay suficientes datos, se entrena con minibatches.\n",
    "  - Se actualiza el modelo objetivo (target_model) cada episodio.\n",
    "  - Se reduce epsilon para explorar menos con el tiempo.\n",
    "- Cada 50 episodios se imprime el rendimiento promedio.\n"
   ]
  },
  {
   "cell_type": "code",
   "execution_count": null,
   "id": "57cf86d8",
   "metadata": {},
   "outputs": [
    {
     "name": "stdout",
     "output_type": "stream",
     "text": [
      "Episode 50, Avg Reward (last 50): -200.00, Epsilon: 0.778\n"
     ]
    }
   ],
   "source": [
    "device = torch.device(\"cuda\" if torch.cuda.is_available() else \"cpu\")\n",
    "\n",
    "env = gym.make('MountainCar-v0')\n",
    "state_dim = env.observation_space.shape[0]\n",
    "n_actions = env.action_space.n\n",
    "\n",
    "model = DQN(input_dim=state_dim, output_dim=n_actions).to(device)\n",
    "target_model = DQN(input_dim=state_dim, output_dim=n_actions).to(device)\n",
    "target_model.load_state_dict(model.state_dict())\n",
    "\n",
    "optimizer = optim.Adam(model.parameters(), lr=0.001)\n",
    "criterion = nn.MSELoss()\n",
    "\n",
    "episodes = 500\n",
    "batch_size = 64\n",
    "gamma = 0.99\n",
    "epsilon = 1.0\n",
    "epsilon_decay = 0.995\n",
    "epsilon_min = 0.01\n",
    "memory = deque(maxlen=10000)\n",
    "rewards = []\n",
    "target_update_freq = 10\n",
    "\n",
    "for ep in range(episodes):\n",
    "    state = env.reset()[0] if isinstance(env.reset(), tuple) else env.reset()\n",
    "    state = normalize_state(state)\n",
    "    total_reward = 0\n",
    "    done = False\n",
    "\n",
    "    while not done:\n",
    "        action = select_action(model, state, epsilon)\n",
    "        next_state, reward, terminated, truncated, _ = env.step(action)\n",
    "        done = terminated or truncated\n",
    "        next_state_norm = normalize_state(next_state)\n",
    "        memory.append((state, action, reward, next_state_norm, done))\n",
    "        state = next_state_norm\n",
    "        total_reward += reward\n",
    "\n",
    "        if len(memory) >= batch_size:\n",
    "            minibatch = random.sample(memory, batch_size)\n",
    "            states, actions, rewards_batch, next_states, dones = zip(*minibatch)\n",
    "\n",
    "            states = torch.tensor(states, dtype=torch.float32, device=device)\n",
    "            actions = torch.tensor(actions, dtype=torch.long, device=device).unsqueeze(1)\n",
    "            rewards_batch = torch.tensor(rewards_batch, dtype=torch.float32, device=device)\n",
    "            next_states = torch.tensor(next_states, dtype=torch.float32, device=device)\n",
    "            dones = torch.tensor(dones, dtype=torch.float32, device=device)\n",
    "\n",
    "            q_values = model(states).gather(1, actions).squeeze(1)\n",
    "            with torch.no_grad():\n",
    "                max_next_q = target_model(next_states).max(1)[0]\n",
    "                targets = rewards_batch + gamma * max_next_q * (1 - dones)\n",
    "\n",
    "            loss = criterion(q_values, targets)\n",
    "            optimizer.zero_grad()\n",
    "            loss.backward()\n",
    "            optimizer.step()\n",
    "\n",
    "    if (ep + 1) % target_update_freq == 0:\n",
    "        target_model.load_state_dict(model.state_dict())\n",
    "\n",
    "    epsilon = max(epsilon * epsilon_decay, epsilon_min)\n",
    "    rewards.append(total_reward)\n",
    "\n",
    "    if (ep + 1) % 50 == 0:\n",
    "        avg_reward = np.mean(rewards[-50:])\n",
    "        print(f\"Episode {ep + 1}, Avg Reward (last 50): {avg_reward:.2f}, Epsilon: {epsilon:.3f}\")\n"
   ]
  },
  {
   "cell_type": "markdown",
   "id": "0de576a5",
   "metadata": {},
   "source": [
    "### Prueba del agente y grabación en video\n",
    "\n",
    "- Se prueba el agente ya entrenado, sin exploración (epsilon = 0).\n",
    "- Se graba el episodio completo en un video.\n",
    "- Se guarda el video en una carpeta (mountaincar_videos).\n"
   ]
  },
  {
   "cell_type": "code",
   "execution_count": 99,
   "id": "da1c45a7",
   "metadata": {},
   "outputs": [
    {
     "name": "stdout",
     "output_type": "stream",
     "text": [
      "Recompensa total del episodio grabado: -200.0\n"
     ]
    }
   ],
   "source": [
    "video_folder = \"./mountaincar_videos-DQN\"\n",
    "env = gym.make('MountainCar-v0', render_mode=\"rgb_array\")\n",
    "env = gym.wrappers.RecordVideo(env, video_folder=video_folder, episode_trigger=lambda e: True)\n",
    "state = normalize_state(env.reset()[0])\n",
    "done = False\n",
    "total_reward = 0\n",
    "\n",
    "while not done:\n",
    "    action = select_action(model, state, epsilon=0.0)\n",
    "    next_state, reward, terminated, truncated, _ = env.step(action)\n",
    "    done = terminated or truncated\n",
    "    next_state = normalize_state(next_state)\n",
    "    state = next_state\n",
    "    total_reward += reward\n",
    "\n",
    "env.close()\n",
    "print(f\"Recompensa total del episodio grabado: {total_reward}\")"
   ]
  },
  {
   "cell_type": "markdown",
   "id": "83559ef5",
   "metadata": {},
   "source": [
    "### Gráfica de recompensas"
   ]
  },
  {
   "cell_type": "code",
   "execution_count": 100,
   "id": "4efc6910",
   "metadata": {},
   "outputs": [
    {
     "data": {
      "image/png": "[encoded data removed]",
      "text/plain": [
       "<Figure size 640x480 with 1 Axes>"
      ]
     },
     "metadata": {},
     "output_type": "display_data"
    }
   ],
   "source": [
    "plt.plot(rewards)\n",
    "plt.xlabel('Episodio')\n",
    "plt.ylabel('Recompensa total')\n",
    "plt.title('Progreso del entrenamiento')\n",
    "plt.grid(True)\n",
    "plt.show()"
   ]
  },
  {
   "cell_type": "markdown",
   "id": "48ad1075",
   "metadata": {},
   "source": [
    "# Q-Learning para CartPole-v1"
   ]
  },
  {
   "cell_type": "markdown",
   "id": "f4c97a20",
   "metadata": {},
   "source": [
    "### Clase del agente Q-Learning\n",
    "\n",
    "- Se define el agente QLearningAgent, que maneja todo el aprendizaje.\n",
    "- Usa una Q-table representada como defaultdict, donde las claves son estados discretizados.\n",
    "- Se discretizan los 4 valores del estado de CartPole (posición, velocidad, ángulo, velocidad angular).\n",
    "- Se aplica la política e-greedy para seleccionar acciones: a veces explora, a veces elige la mejor acción.\n",
    "- Al recibir una transición, actualiza la Q-table usando la regla Q-learning.\n",
    "- Se aplica decaimiento de epsilon en cada paso para reducir la exploración con el tiempo.\n",
    "- También incluye métodos para guardar y cargar el modelo en un archivo .pkl.\n"
   ]
  },
  {
   "cell_type": "code",
   "execution_count": 162,
   "id": "db1dfcb9",
   "metadata": {},
   "outputs": [],
   "source": [
    "class QLearningAgent:\n",
    "    def __init__(self, n_bins=24, learning_rate=0.1, discount_factor=0.99, \n",
    "                 epsilon=1.0, epsilon_decay=0.999, epsilon_min=0.05):\n",
    "        self.n_bins = n_bins\n",
    "        self.learning_rate = learning_rate\n",
    "        self.discount_factor = discount_factor\n",
    "        self.epsilon = epsilon\n",
    "        self.epsilon_decay = epsilon_decay\n",
    "        self.epsilon_min = epsilon_min\n",
    "\n",
    "        self.q_table = defaultdict(lambda: np.zeros(2))  # CartPole tiene 2 acciones\n",
    "\n",
    "        self.state_bounds = [\n",
    "            [-2.4, 2.4],         # posición del carrito\n",
    "            [-2.0, 2.0],         # velocidad del carrito\n",
    "            [-0.2095, 0.2095],   # ángulo del palo\n",
    "            [-2.0, 2.0]          # velocidad angular del palo\n",
    "        ]\n",
    "\n",
    "    def discretize_state(self, state):\n",
    "        discrete = []\n",
    "        for i, val in enumerate(state):\n",
    "            val = np.clip(val, self.state_bounds[i][0], self.state_bounds[i][1])\n",
    "            normalized = (val - self.state_bounds[i][0]) / (self.state_bounds[i][1] - self.state_bounds[i][0])\n",
    "            bin_index = int(normalized * (self.n_bins - 1))\n",
    "            discrete.append(bin_index)\n",
    "        return tuple(discrete)\n",
    "\n",
    "    def choose_action(self, state, training=True):\n",
    "        discrete_state = self.discretize_state(state)\n",
    "        if training and np.random.random() < self.epsilon:\n",
    "            return np.random.randint(2)\n",
    "        else:\n",
    "            return np.argmax(self.q_table[discrete_state])\n",
    "\n",
    "    def update_q_table(self, state, action, reward, next_state, done):\n",
    "        s = self.discretize_state(state)\n",
    "        ns = self.discretize_state(next_state)\n",
    "\n",
    "        current_q = self.q_table[s][action]\n",
    "        target = reward if done else reward + self.discount_factor * np.max(self.q_table[ns])\n",
    "        self.q_table[s][action] += self.learning_rate * (target - current_q)\n",
    "\n",
    "    def decay_epsilon(self):\n",
    "        if self.epsilon > self.epsilon_min:\n",
    "            self.epsilon *= self.epsilon_decay\n",
    "\n",
    "    def save(self, path):\n",
    "        with open(path, 'wb') as f:\n",
    "            pickle.dump(dict(self.q_table), f)\n",
    "\n",
    "    def load(self, path):\n",
    "        with open(path, 'rb') as f:\n",
    "            data = pickle.load(f)\n",
    "            self.q_table = defaultdict(lambda: np.zeros(2), data)\n"
   ]
  },
  {
   "cell_type": "markdown",
   "id": "79e38d33",
   "metadata": {},
   "source": [
    "### Entrenamiento del agente\n",
    "\n",
    "- Se crea el entorno CartPole-v1.\n",
    "- Se inicializa el agente Q-Learning.\n",
    "- Se entrena por 10000 episodios:\n",
    "  - Se resetea el entorno.\n",
    "  - Se ejecuta un loop hasta que el episodio termina.\n",
    "  - El agente elige una acción usando e-greedy.\n",
    "  - Se ejecuta la acción y se obtiene la transición.\n",
    "  - Se actualiza la Q-table con la experiencia recibida.\n",
    "  - Se acumula la recompensa total del episodio.\n",
    "- Cada 50 episodios se imprime la recompensa promedio y el valor actual de epsilon.\n"
   ]
  },
  {
   "cell_type": "code",
   "execution_count": 163,
   "id": "7e5cfebb",
   "metadata": {},
   "outputs": [
    {
     "name": "stdout",
     "output_type": "stream",
     "text": [
      "Episode 100, Avg Reward: 21.66, Epsilon: 0.905\n",
      "Episode 200, Avg Reward: 23.37, Epsilon: 0.819\n",
      "Episode 300, Avg Reward: 22.93, Epsilon: 0.741\n",
      "Episode 400, Avg Reward: 26.84, Epsilon: 0.670\n",
      "Episode 500, Avg Reward: 28.77, Epsilon: 0.606\n",
      "Episode 600, Avg Reward: 34.50, Epsilon: 0.549\n",
      "Episode 700, Avg Reward: 38.90, Epsilon: 0.496\n",
      "Episode 800, Avg Reward: 41.36, Epsilon: 0.449\n",
      "Episode 900, Avg Reward: 47.06, Epsilon: 0.406\n",
      "Episode 1000, Avg Reward: 55.08, Epsilon: 0.368\n",
      "Episode 1100, Avg Reward: 53.14, Epsilon: 0.333\n",
      "Episode 1200, Avg Reward: 63.76, Epsilon: 0.301\n",
      "Episode 1300, Avg Reward: 67.22, Epsilon: 0.272\n",
      "Episode 1400, Avg Reward: 80.80, Epsilon: 0.246\n",
      "Episode 1500, Avg Reward: 80.53, Epsilon: 0.223\n",
      "Episode 1600, Avg Reward: 89.95, Epsilon: 0.202\n",
      "Episode 1700, Avg Reward: 98.22, Epsilon: 0.183\n",
      "Episode 1800, Avg Reward: 107.96, Epsilon: 0.165\n",
      "Episode 1900, Avg Reward: 98.94, Epsilon: 0.149\n",
      "Episode 2000, Avg Reward: 108.65, Epsilon: 0.135\n",
      "Episode 2100, Avg Reward: 114.90, Epsilon: 0.122\n",
      "Episode 2200, Avg Reward: 110.77, Epsilon: 0.111\n",
      "Episode 2300, Avg Reward: 139.80, Epsilon: 0.100\n",
      "Episode 2400, Avg Reward: 106.82, Epsilon: 0.091\n",
      "Episode 2500, Avg Reward: 108.80, Epsilon: 0.082\n",
      "Episode 2600, Avg Reward: 126.81, Epsilon: 0.074\n",
      "Episode 2700, Avg Reward: 172.82, Epsilon: 0.067\n",
      "Episode 2800, Avg Reward: 129.59, Epsilon: 0.061\n",
      "Episode 2900, Avg Reward: 134.19, Epsilon: 0.055\n",
      "Episode 3000, Avg Reward: 146.72, Epsilon: 0.050\n",
      "Episode 3100, Avg Reward: 144.25, Epsilon: 0.050\n",
      "Episode 3200, Avg Reward: 165.65, Epsilon: 0.050\n",
      "Episode 3300, Avg Reward: 163.19, Epsilon: 0.050\n",
      "Episode 3400, Avg Reward: 156.10, Epsilon: 0.050\n",
      "Episode 3500, Avg Reward: 176.54, Epsilon: 0.050\n",
      "Episode 3600, Avg Reward: 189.13, Epsilon: 0.050\n",
      "Episode 3700, Avg Reward: 150.92, Epsilon: 0.050\n",
      "Episode 3800, Avg Reward: 151.86, Epsilon: 0.050\n",
      "Episode 3900, Avg Reward: 144.28, Epsilon: 0.050\n",
      "Episode 4000, Avg Reward: 150.17, Epsilon: 0.050\n",
      "Episode 4100, Avg Reward: 140.19, Epsilon: 0.050\n",
      "Episode 4200, Avg Reward: 150.41, Epsilon: 0.050\n",
      "Episode 4300, Avg Reward: 162.32, Epsilon: 0.050\n",
      "Episode 4400, Avg Reward: 167.14, Epsilon: 0.050\n",
      "Episode 4500, Avg Reward: 176.95, Epsilon: 0.050\n",
      "Episode 4600, Avg Reward: 173.99, Epsilon: 0.050\n",
      "Episode 4700, Avg Reward: 174.31, Epsilon: 0.050\n",
      "Episode 4800, Avg Reward: 182.38, Epsilon: 0.050\n",
      "Episode 4900, Avg Reward: 182.06, Epsilon: 0.050\n",
      "Episode 5000, Avg Reward: 153.02, Epsilon: 0.050\n",
      "Episode 5100, Avg Reward: 166.33, Epsilon: 0.050\n",
      "Episode 5200, Avg Reward: 154.40, Epsilon: 0.050\n",
      "Episode 5300, Avg Reward: 168.93, Epsilon: 0.050\n",
      "Episode 5400, Avg Reward: 155.18, Epsilon: 0.050\n",
      "Episode 5500, Avg Reward: 172.48, Epsilon: 0.050\n",
      "Episode 5600, Avg Reward: 185.38, Epsilon: 0.050\n",
      "Episode 5700, Avg Reward: 195.41, Epsilon: 0.050\n",
      "Episode 5800, Avg Reward: 122.81, Epsilon: 0.050\n",
      "Episode 5900, Avg Reward: 166.33, Epsilon: 0.050\n",
      "Episode 6000, Avg Reward: 196.54, Epsilon: 0.050\n",
      "Episode 6100, Avg Reward: 185.80, Epsilon: 0.050\n",
      "Episode 6200, Avg Reward: 137.80, Epsilon: 0.050\n",
      "Episode 6300, Avg Reward: 183.89, Epsilon: 0.050\n",
      "Episode 6400, Avg Reward: 152.68, Epsilon: 0.050\n",
      "Episode 6500, Avg Reward: 130.64, Epsilon: 0.050\n",
      "Episode 6600, Avg Reward: 148.04, Epsilon: 0.050\n",
      "Episode 6700, Avg Reward: 236.08, Epsilon: 0.050\n",
      "Episode 6800, Avg Reward: 188.70, Epsilon: 0.050\n",
      "Episode 6900, Avg Reward: 213.62, Epsilon: 0.050\n",
      "Episode 7000, Avg Reward: 164.07, Epsilon: 0.050\n",
      "Episode 7100, Avg Reward: 157.11, Epsilon: 0.050\n",
      "Episode 7200, Avg Reward: 198.03, Epsilon: 0.050\n",
      "Episode 7300, Avg Reward: 128.95, Epsilon: 0.050\n",
      "Episode 7400, Avg Reward: 103.34, Epsilon: 0.050\n",
      "Episode 7500, Avg Reward: 124.63, Epsilon: 0.050\n",
      "Episode 7600, Avg Reward: 148.38, Epsilon: 0.050\n",
      "Episode 7700, Avg Reward: 209.35, Epsilon: 0.050\n",
      "Episode 7800, Avg Reward: 184.13, Epsilon: 0.050\n",
      "Episode 7900, Avg Reward: 229.52, Epsilon: 0.050\n",
      "Episode 8000, Avg Reward: 259.54, Epsilon: 0.050\n",
      "Episode 8100, Avg Reward: 183.86, Epsilon: 0.050\n",
      "Episode 8200, Avg Reward: 150.63, Epsilon: 0.050\n",
      "Episode 8300, Avg Reward: 133.74, Epsilon: 0.050\n",
      "Episode 8400, Avg Reward: 180.40, Epsilon: 0.050\n",
      "Episode 8500, Avg Reward: 212.46, Epsilon: 0.050\n",
      "Episode 8600, Avg Reward: 187.59, Epsilon: 0.050\n",
      "Episode 8700, Avg Reward: 195.91, Epsilon: 0.050\n",
      "Episode 8800, Avg Reward: 258.73, Epsilon: 0.050\n",
      "Episode 8900, Avg Reward: 246.25, Epsilon: 0.050\n",
      "Episode 9000, Avg Reward: 292.49, Epsilon: 0.050\n",
      "Episode 9100, Avg Reward: 216.09, Epsilon: 0.050\n",
      "Episode 9200, Avg Reward: 220.44, Epsilon: 0.050\n",
      "Episode 9300, Avg Reward: 205.67, Epsilon: 0.050\n",
      "Episode 9400, Avg Reward: 217.75, Epsilon: 0.050\n",
      "Episode 9500, Avg Reward: 215.13, Epsilon: 0.050\n",
      "Episode 9600, Avg Reward: 149.68, Epsilon: 0.050\n",
      "Episode 9700, Avg Reward: 157.82, Epsilon: 0.050\n",
      "Episode 9800, Avg Reward: 155.04, Epsilon: 0.050\n",
      "Episode 9900, Avg Reward: 212.97, Epsilon: 0.050\n",
      "Episode 10000, Avg Reward: 233.97, Epsilon: 0.050\n"
     ]
    }
   ],
   "source": [
    "env = gym.make(\"CartPole-v1\")\n",
    "\n",
    "agent = QLearningAgent(\n",
    "    n_bins=24,\n",
    "    learning_rate=0.1,\n",
    "    discount_factor=0.99,\n",
    "    epsilon=1.0,\n",
    "    epsilon_decay=0.999,\n",
    "    epsilon_min=0.05\n",
    ")\n",
    "\n",
    "rewards = []\n",
    "episodes = 10000  # Ya con esto debería aprender bien\n",
    "\n",
    "for ep in range(episodes):\n",
    "    state = env.reset()\n",
    "    if isinstance(state, tuple): state = state[0]\n",
    "    \n",
    "    done = False\n",
    "    total_reward = 0\n",
    "\n",
    "    while not done:\n",
    "        action = agent.choose_action(state)\n",
    "        next_state, reward, terminated, truncated, _ = env.step(action)\n",
    "        done = terminated or truncated\n",
    "        agent.update_q_table(state, action, reward, next_state, done)\n",
    "        state = next_state\n",
    "        total_reward += reward\n",
    "\n",
    "    agent.decay_epsilon()\n",
    "    rewards.append(total_reward)\n",
    "\n",
    "    if (ep + 1) % 100 == 0:\n",
    "        avg = np.mean(rewards[-100:])\n",
    "        print(f\"Episode {ep+1}, Avg Reward: {avg:.2f}, Epsilon: {agent.epsilon:.3f}\")\n"
   ]
  },
  {
   "cell_type": "markdown",
   "id": "ce63e36a",
   "metadata": {},
   "source": [
    "### Gráfica de recompensas\n",
    "\n",
    "- Se grafica la recompensa total obtenida en cada episodio.\n",
    "- El eje X muestra el número de episodios.\n",
    "- El eje Y muestra la recompensa (duración del episodio).\n",
    "- Sirve para ver cómo mejora el rendimiento del agente a lo largo del entrenamiento.\n"
   ]
  },
  {
   "cell_type": "code",
   "execution_count": 164,
   "id": "2b42c538",
   "metadata": {},
   "outputs": [
    {
     "data": {
      "image/png": "[encoded data removed]",
      "text/plain": [
       "<Figure size 640x480 with 1 Axes>"
      ]
     },
     "metadata": {},
     "output_type": "display_data"
    }
   ],
   "source": [
    "plt.plot(rewards)\n",
    "plt.xlabel(\"Episodio\")\n",
    "plt.ylabel(\"Recompensa\")\n",
    "plt.title(\"Progreso del entrenamiento\")\n",
    "plt.grid(True)\n",
    "plt.show()"
   ]
  },
  {
   "cell_type": "markdown",
   "id": "51bbd061",
   "metadata": {},
   "source": [
    "### Guardar el modelo\n",
    "\n",
    "- Se guarda la Q-table del agente entrenado en un archivo .pkl.\n",
    "- Esto permite reutilizar el modelo sin necesidad de volver a entrenar desde cero.\n"
   ]
  },
  {
   "cell_type": "code",
   "execution_count": 165,
   "id": "f126f6d7",
   "metadata": {},
   "outputs": [
    {
     "name": "stdout",
     "output_type": "stream",
     "text": [
      "Modelo guardado como 'cartpole_q_agent.pkl'\n"
     ]
    }
   ],
   "source": [
    "agent.save(\"cartpole_q_agent.pkl\")\n",
    "print(\"Modelo guardado como 'cartpole_q_agent.pkl'\")"
   ]
  },
  {
   "cell_type": "markdown",
   "id": "a87688da",
   "metadata": {},
   "source": [
    "### Grabar video del agente entrenado\n",
    "\n",
    "- Se crea una carpeta para guardar los videos.\n",
    "- Se reinicia el entorno con render_mode=\"rgb_array\" y se envuelve con RecordVideo.\n",
    "- Se ejecuta un episodio con el agente ya entrenado, sin exploración.\n",
    "- Se graba todo el episodio y se guarda como video en la carpeta indicada.\n"
   ]
  },
  {
   "cell_type": "code",
   "execution_count": 168,
   "id": "6d624dff",
   "metadata": {},
   "outputs": [
    {
     "name": "stdout",
     "output_type": "stream",
     "text": [
      "MoviePy - Building video c:\\Universidad\\decimoSemestre\\sistemasInteligentes\\mountain-car\\mountain_car\\cartpole_q_videos\\rl-video-episode-0.mp4.\n",
      "MoviePy - Writing video c:\\Universidad\\decimoSemestre\\sistemasInteligentes\\mountain-car\\mountain_car\\cartpole_q_videos\\rl-video-episode-0.mp4\n",
      "\n"
     ]
    },
    {
     "name": "stderr",
     "output_type": "stream",
     "text": [
      "                                                                          \r"
     ]
    },
    {
     "name": "stdout",
     "output_type": "stream",
     "text": [
      "MoviePy - Done !\n",
      "MoviePy - video ready c:\\Universidad\\decimoSemestre\\sistemasInteligentes\\mountain-car\\mountain_car\\cartpole_q_videos\\rl-video-episode-0.mp4\n",
      "Recompensa total del episodio grabado: 269.0\n"
     ]
    }
   ],
   "source": [
    "video_folder = \"./cartpole_q_videos\"\n",
    "os.makedirs(video_folder, exist_ok=True)\n",
    "\n",
    "env = gym.make(\"CartPole-v1\", render_mode=\"rgb_array\")\n",
    "env = RecordVideo(env, video_folder=video_folder, episode_trigger=lambda e: True)\n",
    "\n",
    "agent.epsilon = 0.0  # Desactiva la exploración\n",
    "state = env.reset()\n",
    "if isinstance(state, tuple): state = state[0]\n",
    "\n",
    "done = False\n",
    "total_reward = 0\n",
    "\n",
    "while not done:\n",
    "    action = agent.choose_action(state, training=False)\n",
    "    next_state, reward, terminated, truncated, _ = env.step(action)\n",
    "    done = terminated or truncated\n",
    "    state = next_state\n",
    "    total_reward += reward\n",
    "\n",
    "env.close()\n",
    "print(f\"Recompensa total del episodio grabado: {total_reward}\")\n"
   ]
  },
  {
   "cell_type": "markdown",
   "id": "599170bf",
   "metadata": {},
   "source": [
    "## DQN CartPole\n",
    "\n"
   ]
  },
  {
   "cell_type": "markdown",
   "id": "1adabe1d",
   "metadata": {},
   "source": [
    "### Modelo DQN\n",
    "\n",
    "Se define una red neuronal simple:\n",
    "- Entrada: estado del entorno (posición, velocidad, ángulo y velocidad angular del palo).\n",
    "- Salida: valor Q para cada acción (izquierda o derecha).\n",
    "- Arquitectura: 2 capas ocultas de 64 neuronas con ReLU.\n"
   ]
  },
  {
   "cell_type": "code",
   "execution_count": 141,
   "id": "2a0da509",
   "metadata": {},
   "outputs": [],
   "source": [
    "class DQN(nn.Module):\n",
    "    def __init__(self, input_dim, output_dim):\n",
    "        super(DQN, self).__init__()\n",
    "        self.net = nn.Sequential(\n",
    "            nn.Linear(input_dim, 64),\n",
    "            nn.ReLU(),\n",
    "            nn.Linear(64, 64),\n",
    "            nn.ReLU(),\n",
    "            nn.Linear(64, output_dim)\n",
    "        )\n",
    "\n",
    "    def forward(self, x):\n",
    "        return self.net(x)"
   ]
  },
  {
   "cell_type": "markdown",
   "id": "8cf44494",
   "metadata": {},
   "source": [
    "### Función auxiliar para seleccionar acción\n",
    "\n",
    "Implementa la política e-greedy:\n",
    "- Con probabilidad epsilon elige una acción aleatoria (explora).\n",
    "- Si no, elige la acción con mayor valor Q según el modelo.\n"
   ]
  },
  {
   "cell_type": "code",
   "execution_count": 142,
   "id": "fa203a38",
   "metadata": {},
   "outputs": [],
   "source": [
    "def select_action(model, state, epsilon):\n",
    "    if random.random() < epsilon:\n",
    "        return env.action_space.sample()\n",
    "    else:\n",
    "        with torch.no_grad():\n",
    "            state_tensor = torch.FloatTensor(state).to(device)\n",
    "            q_values = model(state_tensor)\n",
    "            return torch.argmax(q_values).item()"
   ]
  },
  {
   "cell_type": "markdown",
   "id": "9324fa31",
   "metadata": {},
   "source": [
    "### Entrenamiento del agente\n",
    "\n",
    "- Se inicializa el entorno y las redes (modelo principal y modelo objetivo).\n",
    "- Se ejecutan múltiples episodios:\n",
    "  - Se toma una acción y se guarda la experiencia en memoria.\n",
    "  - Cada 2 pasos y si hay suficientes datos, se entrena con minibatches.\n",
    "  - La red objetivo (target_model) se actualiza cada 10 episodios.\n",
    "  - Se reduce epsilon gradualmente para hacer menos exploración.\n",
    "- Cada 50 episodios se imprime la recompensa promedio y el valor actual de epsilon.\n"
   ]
  },
  {
   "cell_type": "code",
   "execution_count": 144,
   "id": "6df8438e",
   "metadata": {},
   "outputs": [
    {
     "name": "stdout",
     "output_type": "stream",
     "text": [
      "Episode 50, Avg Reward (last 50): 21.56, Epsilon: 0.778\n",
      "Episode 100, Avg Reward (last 50): 45.54, Epsilon: 0.606\n",
      "Episode 150, Avg Reward (last 50): 89.36, Epsilon: 0.471\n",
      "Episode 200, Avg Reward (last 50): 153.26, Epsilon: 0.367\n",
      "Episode 250, Avg Reward (last 50): 190.20, Epsilon: 0.286\n",
      "Episode 300, Avg Reward (last 50): 152.98, Epsilon: 0.222\n",
      "Episode 350, Avg Reward (last 50): 293.66, Epsilon: 0.173\n",
      "Episode 400, Avg Reward (last 50): 310.56, Epsilon: 0.135\n",
      "Episode 450, Avg Reward (last 50): 202.48, Epsilon: 0.105\n",
      "Episode 500, Avg Reward (last 50): 303.24, Epsilon: 0.082\n",
      "Episode 550, Avg Reward (last 50): 155.96, Epsilon: 0.063\n",
      "Episode 600, Avg Reward (last 50): 127.86, Epsilon: 0.049\n",
      "Episode 650, Avg Reward (last 50): 126.82, Epsilon: 0.038\n",
      "Episode 700, Avg Reward (last 50): 128.70, Epsilon: 0.030\n",
      "Episode 750, Avg Reward (last 50): 121.10, Epsilon: 0.023\n",
      "Episode 800, Avg Reward (last 50): 176.54, Epsilon: 0.018\n",
      "Episode 850, Avg Reward (last 50): 208.96, Epsilon: 0.014\n",
      "Episode 900, Avg Reward (last 50): 348.28, Epsilon: 0.011\n",
      "Episode 950, Avg Reward (last 50): 437.28, Epsilon: 0.010\n",
      "Episode 1000, Avg Reward (last 50): 417.82, Epsilon: 0.010\n",
      "Episode 1050, Avg Reward (last 50): 449.12, Epsilon: 0.010\n",
      "Episode 1100, Avg Reward (last 50): 345.26, Epsilon: 0.010\n",
      "Episode 1150, Avg Reward (last 50): 456.12, Epsilon: 0.010\n",
      "Episode 1200, Avg Reward (last 50): 430.94, Epsilon: 0.010\n",
      "Episode 1250, Avg Reward (last 50): 462.64, Epsilon: 0.010\n",
      "Episode 1300, Avg Reward (last 50): 204.44, Epsilon: 0.010\n",
      "Episode 1350, Avg Reward (last 50): 362.04, Epsilon: 0.010\n",
      "Episode 1400, Avg Reward (last 50): 337.46, Epsilon: 0.010\n",
      "Episode 1450, Avg Reward (last 50): 123.12, Epsilon: 0.010\n",
      "Episode 1500, Avg Reward (last 50): 266.48, Epsilon: 0.010\n",
      "Episode 1550, Avg Reward (last 50): 286.38, Epsilon: 0.010\n",
      "Episode 1600, Avg Reward (last 50): 303.52, Epsilon: 0.010\n",
      "Episode 1650, Avg Reward (last 50): 390.04, Epsilon: 0.010\n",
      "Episode 1700, Avg Reward (last 50): 257.76, Epsilon: 0.010\n",
      "Episode 1750, Avg Reward (last 50): 134.92, Epsilon: 0.010\n",
      "Episode 1800, Avg Reward (last 50): 169.16, Epsilon: 0.010\n",
      "Episode 1850, Avg Reward (last 50): 335.92, Epsilon: 0.010\n",
      "Episode 1900, Avg Reward (last 50): 417.56, Epsilon: 0.010\n",
      "Episode 1950, Avg Reward (last 50): 439.28, Epsilon: 0.010\n",
      "Episode 2000, Avg Reward (last 50): 366.12, Epsilon: 0.010\n"
     ]
    }
   ],
   "source": [
    "env = gym.make('CartPole-v1')\n",
    "state_dim = env.observation_space.shape[0]\n",
    "n_actions = env.action_space.n\n",
    "\n",
    "model = DQN(input_dim=state_dim, output_dim=n_actions).to(device)\n",
    "target_model = DQN(input_dim=state_dim, output_dim=n_actions).to(device)\n",
    "target_model.load_state_dict(model.state_dict())\n",
    "\n",
    "optimizer = optim.Adam(model.parameters(), lr=0.001)\n",
    "criterion = nn.MSELoss()\n",
    "\n",
    "episodes = 2000\n",
    "batch_size = 64\n",
    "gamma = 0.99\n",
    "epsilon = 1.0\n",
    "epsilon_decay = 0.995\n",
    "epsilon_min = 0.01\n",
    "memory = deque(maxlen=10000)\n",
    "rewards = []\n",
    "\n",
    "for ep in range(episodes):\n",
    "    state = env.reset()[0] if isinstance(env.reset(), tuple) else env.reset()\n",
    "    total_reward = 0\n",
    "    done = False\n",
    "    steps = 0\n",
    "\n",
    "    while not done:\n",
    "        action = select_action(model, state, epsilon)\n",
    "        next_state, reward, terminated, truncated, _ = env.step(action)\n",
    "        done = terminated or truncated\n",
    "        memory.append((state, action, reward, next_state, done))\n",
    "        state = next_state\n",
    "        total_reward += reward\n",
    "        steps += 1\n",
    "\n",
    "        if len(memory) >= batch_size and steps % 2 == 0:\n",
    "            minibatch = random.sample(memory, batch_size)\n",
    "            states, actions, rewards_batch, next_states, dones = zip(*minibatch)\n",
    "\n",
    "            states = torch.FloatTensor(states).to(device)\n",
    "            actions = torch.LongTensor(actions).to(device)\n",
    "            rewards_batch = torch.FloatTensor(rewards_batch).to(device)\n",
    "            next_states = torch.FloatTensor(next_states).to(device)\n",
    "            dones = torch.FloatTensor(dones).to(device)\n",
    "\n",
    "            q_values = model(states)\n",
    "            with torch.no_grad():\n",
    "                next_q_values = target_model(next_states)\n",
    "\n",
    "            q_target = q_values.clone().detach()\n",
    "            for i in range(batch_size):\n",
    "                q_target[i, actions[i]] = rewards_batch[i] + gamma * torch.max(next_q_values[i]) * (1 - dones[i])\n",
    "\n",
    "            loss = criterion(q_values, q_target)\n",
    "            optimizer.zero_grad()\n",
    "            loss.backward()\n",
    "            optimizer.step()\n",
    "\n",
    "    if ep % 10 == 0:\n",
    "        target_model.load_state_dict(model.state_dict())\n",
    "\n",
    "    epsilon = max(epsilon * epsilon_decay, epsilon_min)\n",
    "    rewards.append(total_reward)\n",
    "\n",
    "    if (ep + 1) % 50 == 0:\n",
    "        avg_reward = np.mean(rewards[-50:])\n",
    "        print(f\"Episode {ep + 1}, Avg Reward (last 50): {avg_reward:.2f}, Epsilon: {epsilon:.3f}\")"
   ]
  },
  {
   "cell_type": "markdown",
   "id": "222da9df",
   "metadata": {},
   "source": [
    "### Gráfica de recompensas\n",
    "\n",
    "Se grafica la recompensa obtenida por episodio.\n",
    "Sirve para ver si el agente está aprendiendo a mantener el palo en equilibrio por más tiempo.\n"
   ]
  },
  {
   "cell_type": "code",
   "execution_count": 145,
   "id": "7f3686e1",
   "metadata": {},
   "outputs": [
    {
     "data": {
      "image/png": "[encoded data removed]",
      "text/plain": [
       "<Figure size 640x480 with 1 Axes>"
      ]
     },
     "metadata": {},
     "output_type": "display_data"
    }
   ],
   "source": [
    "plt.plot(rewards)\n",
    "plt.xlabel(\"Episodio\")\n",
    "plt.ylabel(\"Recompensa\")\n",
    "plt.title(\"Progreso del entrenamiento\")\n",
    "plt.grid(True)\n",
    "plt.show()"
   ]
  },
  {
   "cell_type": "markdown",
   "id": "76b6425c",
   "metadata": {},
   "source": [
    "### Prueba del agente y grabación del video\n",
    "\n",
    "- Se crea un entorno con render_mode=\"rgb_array\".\n",
    "- Se usa RecordVideo para grabar todo el episodio.\n",
    "- El agente ejecuta un episodio completo usando solo explotación (epsilon = 0.0).\n",
    "- Al finalizar, se guarda el video en la carpeta ./cartpole_dqn_videos.\n"
   ]
  },
  {
   "cell_type": "code",
   "execution_count": 169,
   "id": "e3d9b7e7",
   "metadata": {},
   "outputs": [
    {
     "name": "stdout",
     "output_type": "stream",
     "text": [
      "Recompensa total del episodio grabado: 467.0\n",
      "Video guardado en: ./cartpole_qlearning_videos\n"
     ]
    }
   ],
   "source": [
    "video_folder = \"./cartpole_qlearning_videos\"\n",
    "os.makedirs(video_folder, exist_ok=True)\n",
    "\n",
    "env = gym.make('CartPole-v1', render_mode=\"rgb_array\")\n",
    "env = gym.wrappers.RecordVideo(env, video_folder=video_folder, episode_trigger=lambda e: True)\n",
    "\n",
    "agent.epsilon = 0  # aseguramos política greedy para grabar bien\n",
    "state = env.reset()[0] if isinstance(env.reset(), tuple) else env.reset()\n",
    "done = False\n",
    "total_reward = 0\n",
    "\n",
    "while not done:\n",
    "    action = agent.choose_action(state)\n",
    "    result = env.step(action)\n",
    "    if len(result) == 4:\n",
    "        next_state, reward, done, _ = result\n",
    "    else:\n",
    "        next_state, reward, terminated, truncated, _ = result\n",
    "        done = terminated or truncated\n",
    "    state = next_state\n",
    "    total_reward += reward\n",
    "\n",
    "env.close()\n",
    "print(f\"Recompensa total del episodio grabado: {total_reward}\")\n",
    "print(f\"Video guardado en: {video_folder}\")"
   ]
  }
 ],
 "metadata": {
  "kernelspec": {
   "display_name": "py312",
   "language": "python",
   "name": "python3"
  },
  "language_info": {
   "codemirror_mode": {
    "name": "ipython",
    "version": 3
   },
   "file_extension": ".py",
   "mimetype": "text/x-python",
   "name": "python",
   "nbconvert_exporter": "python",
   "pygments_lexer": "ipython3",
   "version": "3.12.3"
  }
 },
 "nbformat": 4,
 "nbformat_minor": 5
}
